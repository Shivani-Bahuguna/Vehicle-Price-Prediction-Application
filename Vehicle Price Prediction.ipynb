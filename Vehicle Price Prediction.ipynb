{
 "cells": [
  {
   "cell_type": "markdown",
   "id": "3d8f23a8",
   "metadata": {},
   "source": [
    "# VEHICLE PRICE PREDICTION ML MODEL"
   ]
  },
  {
   "cell_type": "markdown",
   "id": "27d19840",
   "metadata": {},
   "source": [
    "# Importing necessary files and libraries"
   ]
  },
  {
   "cell_type": "code",
   "execution_count": 67,
   "id": "173019f4",
   "metadata": {},
   "outputs": [],
   "source": [
    "import pandas as pd\n",
    "import numpy as np\n",
    "import pickle\n",
    "\n",
    "from sklearn.preprocessing import LabelEncoder\n",
    "from sklearn.model_selection import train_test_split\n",
    "\n",
    "from sklearn.linear_model import LinearRegression\n",
    "\n",
    "import warnings\n",
    "warnings.filterwarnings('ignore')"
   ]
  },
  {
   "cell_type": "markdown",
   "id": "4122d815",
   "metadata": {},
   "source": [
    "# Creating Dataframe"
   ]
  },
  {
   "cell_type": "code",
   "execution_count": 2,
   "id": "00abf344",
   "metadata": {},
   "outputs": [],
   "source": [
    "df = pd.read_csv('Vehicle Dataset.csv')"
   ]
  },
  {
   "cell_type": "markdown",
   "id": "ec29fdee",
   "metadata": {},
   "source": [
    "# EXPLORATORY DATA ANALYSIS (EDA)"
   ]
  },
  {
   "cell_type": "code",
   "execution_count": 3,
   "id": "d2608e47",
   "metadata": {},
   "outputs": [
    {
     "data": {
      "text/html": [
       "<div>\n",
       "<style scoped>\n",
       "    .dataframe tbody tr th:only-of-type {\n",
       "        vertical-align: middle;\n",
       "    }\n",
       "\n",
       "    .dataframe tbody tr th {\n",
       "        vertical-align: top;\n",
       "    }\n",
       "\n",
       "    .dataframe thead th {\n",
       "        text-align: right;\n",
       "    }\n",
       "</style>\n",
       "<table border=\"1\" class=\"dataframe\">\n",
       "  <thead>\n",
       "    <tr style=\"text-align: right;\">\n",
       "      <th></th>\n",
       "      <th>Make</th>\n",
       "      <th>Model</th>\n",
       "      <th>Price</th>\n",
       "      <th>Year</th>\n",
       "      <th>Kilometer</th>\n",
       "      <th>Fuel Type</th>\n",
       "      <th>Transmission</th>\n",
       "      <th>Location</th>\n",
       "      <th>Color</th>\n",
       "      <th>Owner</th>\n",
       "      <th>Seller Type</th>\n",
       "      <th>Engine</th>\n",
       "      <th>Max Power</th>\n",
       "      <th>Max Torque</th>\n",
       "      <th>Drivetrain</th>\n",
       "      <th>Length</th>\n",
       "      <th>Width</th>\n",
       "      <th>Height</th>\n",
       "      <th>Seating Capacity</th>\n",
       "      <th>Fuel Tank Capacity</th>\n",
       "    </tr>\n",
       "  </thead>\n",
       "  <tbody>\n",
       "    <tr>\n",
       "      <th>0</th>\n",
       "      <td>Honda</td>\n",
       "      <td>Amaze 1.2 VX i-VTEC</td>\n",
       "      <td>505000</td>\n",
       "      <td>2017</td>\n",
       "      <td>87150</td>\n",
       "      <td>Petrol</td>\n",
       "      <td>Manual</td>\n",
       "      <td>Pune</td>\n",
       "      <td>Grey</td>\n",
       "      <td>First</td>\n",
       "      <td>Corporate</td>\n",
       "      <td>1198 cc</td>\n",
       "      <td>87 bhp @ 6000 rpm</td>\n",
       "      <td>109 Nm @ 4500 rpm</td>\n",
       "      <td>FWD</td>\n",
       "      <td>3990.0</td>\n",
       "      <td>1680.0</td>\n",
       "      <td>1505.0</td>\n",
       "      <td>5.0</td>\n",
       "      <td>35.0</td>\n",
       "    </tr>\n",
       "    <tr>\n",
       "      <th>1</th>\n",
       "      <td>Maruti Suzuki</td>\n",
       "      <td>Swift DZire VDI</td>\n",
       "      <td>450000</td>\n",
       "      <td>2014</td>\n",
       "      <td>75000</td>\n",
       "      <td>Diesel</td>\n",
       "      <td>Manual</td>\n",
       "      <td>Ludhiana</td>\n",
       "      <td>White</td>\n",
       "      <td>Second</td>\n",
       "      <td>Individual</td>\n",
       "      <td>1248 cc</td>\n",
       "      <td>74 bhp @ 4000 rpm</td>\n",
       "      <td>190 Nm @ 2000 rpm</td>\n",
       "      <td>FWD</td>\n",
       "      <td>3995.0</td>\n",
       "      <td>1695.0</td>\n",
       "      <td>1555.0</td>\n",
       "      <td>5.0</td>\n",
       "      <td>42.0</td>\n",
       "    </tr>\n",
       "    <tr>\n",
       "      <th>2</th>\n",
       "      <td>Hyundai</td>\n",
       "      <td>i10 Magna 1.2 Kappa2</td>\n",
       "      <td>220000</td>\n",
       "      <td>2011</td>\n",
       "      <td>67000</td>\n",
       "      <td>Petrol</td>\n",
       "      <td>Manual</td>\n",
       "      <td>Lucknow</td>\n",
       "      <td>Maroon</td>\n",
       "      <td>First</td>\n",
       "      <td>Individual</td>\n",
       "      <td>1197 cc</td>\n",
       "      <td>79 bhp @ 6000 rpm</td>\n",
       "      <td>112.7619 Nm @ 4000 rpm</td>\n",
       "      <td>FWD</td>\n",
       "      <td>3585.0</td>\n",
       "      <td>1595.0</td>\n",
       "      <td>1550.0</td>\n",
       "      <td>5.0</td>\n",
       "      <td>35.0</td>\n",
       "    </tr>\n",
       "    <tr>\n",
       "      <th>3</th>\n",
       "      <td>Toyota</td>\n",
       "      <td>Glanza G</td>\n",
       "      <td>799000</td>\n",
       "      <td>2019</td>\n",
       "      <td>37500</td>\n",
       "      <td>Petrol</td>\n",
       "      <td>Manual</td>\n",
       "      <td>Mangalore</td>\n",
       "      <td>Red</td>\n",
       "      <td>First</td>\n",
       "      <td>Individual</td>\n",
       "      <td>1197 cc</td>\n",
       "      <td>82 bhp @ 6000 rpm</td>\n",
       "      <td>113 Nm @ 4200 rpm</td>\n",
       "      <td>FWD</td>\n",
       "      <td>3995.0</td>\n",
       "      <td>1745.0</td>\n",
       "      <td>1510.0</td>\n",
       "      <td>5.0</td>\n",
       "      <td>37.0</td>\n",
       "    </tr>\n",
       "    <tr>\n",
       "      <th>4</th>\n",
       "      <td>Toyota</td>\n",
       "      <td>Innova 2.4 VX 7 STR [2016-2020]</td>\n",
       "      <td>1950000</td>\n",
       "      <td>2018</td>\n",
       "      <td>69000</td>\n",
       "      <td>Diesel</td>\n",
       "      <td>Manual</td>\n",
       "      <td>Mumbai</td>\n",
       "      <td>Grey</td>\n",
       "      <td>First</td>\n",
       "      <td>Individual</td>\n",
       "      <td>2393 cc</td>\n",
       "      <td>148 bhp @ 3400 rpm</td>\n",
       "      <td>343 Nm @ 1400 rpm</td>\n",
       "      <td>RWD</td>\n",
       "      <td>4735.0</td>\n",
       "      <td>1830.0</td>\n",
       "      <td>1795.0</td>\n",
       "      <td>7.0</td>\n",
       "      <td>55.0</td>\n",
       "    </tr>\n",
       "  </tbody>\n",
       "</table>\n",
       "</div>"
      ],
      "text/plain": [
       "            Make                            Model    Price  Year  Kilometer   \n",
       "0          Honda              Amaze 1.2 VX i-VTEC   505000  2017      87150  \\\n",
       "1  Maruti Suzuki                  Swift DZire VDI   450000  2014      75000   \n",
       "2        Hyundai             i10 Magna 1.2 Kappa2   220000  2011      67000   \n",
       "3         Toyota                         Glanza G   799000  2019      37500   \n",
       "4         Toyota  Innova 2.4 VX 7 STR [2016-2020]  1950000  2018      69000   \n",
       "\n",
       "  Fuel Type Transmission   Location   Color   Owner Seller Type   Engine   \n",
       "0    Petrol       Manual       Pune    Grey   First   Corporate  1198 cc  \\\n",
       "1    Diesel       Manual   Ludhiana   White  Second  Individual  1248 cc   \n",
       "2    Petrol       Manual    Lucknow  Maroon   First  Individual  1197 cc   \n",
       "3    Petrol       Manual  Mangalore     Red   First  Individual  1197 cc   \n",
       "4    Diesel       Manual     Mumbai    Grey   First  Individual  2393 cc   \n",
       "\n",
       "            Max Power              Max Torque Drivetrain  Length   Width   \n",
       "0   87 bhp @ 6000 rpm       109 Nm @ 4500 rpm        FWD  3990.0  1680.0  \\\n",
       "1   74 bhp @ 4000 rpm       190 Nm @ 2000 rpm        FWD  3995.0  1695.0   \n",
       "2   79 bhp @ 6000 rpm  112.7619 Nm @ 4000 rpm        FWD  3585.0  1595.0   \n",
       "3   82 bhp @ 6000 rpm       113 Nm @ 4200 rpm        FWD  3995.0  1745.0   \n",
       "4  148 bhp @ 3400 rpm       343 Nm @ 1400 rpm        RWD  4735.0  1830.0   \n",
       "\n",
       "   Height  Seating Capacity  Fuel Tank Capacity  \n",
       "0  1505.0               5.0                35.0  \n",
       "1  1555.0               5.0                42.0  \n",
       "2  1550.0               5.0                35.0  \n",
       "3  1510.0               5.0                37.0  \n",
       "4  1795.0               7.0                55.0  "
      ]
     },
     "execution_count": 3,
     "metadata": {},
     "output_type": "execute_result"
    }
   ],
   "source": [
    "df.head(5)"
   ]
  },
  {
   "cell_type": "code",
   "execution_count": 4,
   "id": "fc405937",
   "metadata": {},
   "outputs": [
    {
     "name": "stdout",
     "output_type": "stream",
     "text": [
      "<class 'pandas.core.frame.DataFrame'>\n",
      "RangeIndex: 2059 entries, 0 to 2058\n",
      "Data columns (total 20 columns):\n",
      " #   Column              Non-Null Count  Dtype  \n",
      "---  ------              --------------  -----  \n",
      " 0   Make                2059 non-null   object \n",
      " 1   Model               2059 non-null   object \n",
      " 2   Price               2059 non-null   int64  \n",
      " 3   Year                2059 non-null   int64  \n",
      " 4   Kilometer           2059 non-null   int64  \n",
      " 5   Fuel Type           2059 non-null   object \n",
      " 6   Transmission        2059 non-null   object \n",
      " 7   Location            2059 non-null   object \n",
      " 8   Color               2059 non-null   object \n",
      " 9   Owner               2059 non-null   object \n",
      " 10  Seller Type         2059 non-null   object \n",
      " 11  Engine              1979 non-null   object \n",
      " 12  Max Power           1979 non-null   object \n",
      " 13  Max Torque          1979 non-null   object \n",
      " 14  Drivetrain          1923 non-null   object \n",
      " 15  Length              1995 non-null   float64\n",
      " 16  Width               1995 non-null   float64\n",
      " 17  Height              1995 non-null   float64\n",
      " 18  Seating Capacity    1995 non-null   float64\n",
      " 19  Fuel Tank Capacity  1946 non-null   float64\n",
      "dtypes: float64(5), int64(3), object(12)\n",
      "memory usage: 321.8+ KB\n"
     ]
    }
   ],
   "source": [
    "df.info()"
   ]
  },
  {
   "cell_type": "code",
   "execution_count": 5,
   "id": "effc4dc0",
   "metadata": {},
   "outputs": [
    {
     "name": "stdout",
     "output_type": "stream",
     "text": [
      "<class 'pandas.core.frame.DataFrame'>\n",
      "RangeIndex: 2059 entries, 0 to 2058\n",
      "Data columns (total 12 columns):\n",
      " #   Column              Non-Null Count  Dtype  \n",
      "---  ------              --------------  -----  \n",
      " 0   Make                2059 non-null   object \n",
      " 1   Model               2059 non-null   object \n",
      " 2   Price               2059 non-null   int64  \n",
      " 3   Year                2059 non-null   int64  \n",
      " 4   Fuel Type           2059 non-null   object \n",
      " 5   Transmission        2059 non-null   object \n",
      " 6   Owner               2059 non-null   object \n",
      " 7   Engine              1979 non-null   object \n",
      " 8   Max Power           1979 non-null   object \n",
      " 9   Drivetrain          1923 non-null   object \n",
      " 10  Seating Capacity    1995 non-null   float64\n",
      " 11  Fuel Tank Capacity  1946 non-null   float64\n",
      "dtypes: float64(2), int64(2), object(8)\n",
      "memory usage: 193.2+ KB\n"
     ]
    }
   ],
   "source": [
    "#dropping unnecessary columns\n",
    "df=df.drop(['Kilometer','Location','Color','Seller Type','Max Torque','Length','Width','Height'],axis='columns')\n",
    "df.info()"
   ]
  },
  {
   "cell_type": "code",
   "execution_count": 6,
   "id": "d455362b",
   "metadata": {},
   "outputs": [
    {
     "data": {
      "text/plain": [
       "True"
      ]
     },
     "execution_count": 6,
     "metadata": {},
     "output_type": "execute_result"
    }
   ],
   "source": [
    "df.isnull().values.any()"
   ]
  },
  {
   "cell_type": "code",
   "execution_count": 7,
   "id": "b0e779fb",
   "metadata": {},
   "outputs": [
    {
     "data": {
      "text/plain": [
       "Make                    0\n",
       "Model                   0\n",
       "Price                   0\n",
       "Year                    0\n",
       "Fuel Type               0\n",
       "Transmission            0\n",
       "Owner                   0\n",
       "Engine                 80\n",
       "Max Power              80\n",
       "Drivetrain            136\n",
       "Seating Capacity       64\n",
       "Fuel Tank Capacity    113\n",
       "dtype: int64"
      ]
     },
     "execution_count": 7,
     "metadata": {},
     "output_type": "execute_result"
    }
   ],
   "source": [
    "df.isnull().sum()"
   ]
  },
  {
   "cell_type": "markdown",
   "id": "37633886",
   "metadata": {},
   "source": [
    "# Data Preprocessing"
   ]
  },
  {
   "cell_type": "code",
   "execution_count": 8,
   "id": "dd559587",
   "metadata": {},
   "outputs": [
    {
     "name": "stdout",
     "output_type": "stream",
     "text": [
      "<class 'pandas.core.frame.DataFrame'>\n",
      "RangeIndex: 2059 entries, 0 to 2058\n",
      "Data columns (total 12 columns):\n",
      " #   Column              Non-Null Count  Dtype  \n",
      "---  ------              --------------  -----  \n",
      " 0   Make                2059 non-null   object \n",
      " 1   Model               2059 non-null   object \n",
      " 2   Price               2059 non-null   int64  \n",
      " 3   Year                2059 non-null   int64  \n",
      " 4   Fuel Type           2059 non-null   object \n",
      " 5   Transmission        2059 non-null   object \n",
      " 6   Owner               2059 non-null   object \n",
      " 7   Engine              1979 non-null   object \n",
      " 8   Max Power           1979 non-null   object \n",
      " 9   Drivetrain          1923 non-null   object \n",
      " 10  Seating Capacity    1995 non-null   float64\n",
      " 11  Fuel Tank Capacity  1946 non-null   float64\n",
      "dtypes: float64(2), int64(2), object(8)\n",
      "memory usage: 193.2+ KB\n"
     ]
    }
   ],
   "source": [
    "df.info()"
   ]
  },
  {
   "cell_type": "code",
   "execution_count": 9,
   "id": "e382b4c9",
   "metadata": {},
   "outputs": [],
   "source": [
    "df['Engine']\n",
    "df['Engine'] = df['Engine'].str.replace(\"cc\",\"\")\n",
    "df['Engine'] = df['Engine'].astype(\"float64\")"
   ]
  },
  {
   "cell_type": "code",
   "execution_count": 10,
   "id": "55fed44b",
   "metadata": {},
   "outputs": [],
   "source": [
    "df['Engine'] = df['Engine'].fillna(df['Engine'].mean())"
   ]
  },
  {
   "cell_type": "code",
   "execution_count": 11,
   "id": "fd479db9",
   "metadata": {},
   "outputs": [
    {
     "data": {
      "text/plain": [
       "Make                    0\n",
       "Model                   0\n",
       "Price                   0\n",
       "Year                    0\n",
       "Fuel Type               0\n",
       "Transmission            0\n",
       "Owner                   0\n",
       "Engine                  0\n",
       "Max Power              80\n",
       "Drivetrain            136\n",
       "Seating Capacity       64\n",
       "Fuel Tank Capacity    113\n",
       "dtype: int64"
      ]
     },
     "execution_count": 11,
     "metadata": {},
     "output_type": "execute_result"
    }
   ],
   "source": [
    "df.isnull().sum()"
   ]
  },
  {
   "cell_type": "code",
   "execution_count": 12,
   "id": "bf028d16",
   "metadata": {},
   "outputs": [],
   "source": [
    "df['Max Power'] = df['Max Power'].str.replace(\"bhp\",\"\")\n",
    "df['Max Power'] = df['Max Power'].str.replace(\"@\",\"\")\n",
    "df['Max Power'] = df['Max Power'].str.replace(\"rpm\",\"\")\n",
    "df[['BHP','RPM']] = df['Max Power'].str.split(expand=True)"
   ]
  },
  {
   "cell_type": "code",
   "execution_count": 13,
   "id": "335e46d4",
   "metadata": {},
   "outputs": [],
   "source": [
    "df['BHP'] = df['BHP'].astype(\"float64\")\n",
    "df['RPM'] = df['RPM'].astype(\"float64\")\n",
    "df['BHP'] = df['BHP'].fillna(df['BHP'].mean())\n",
    "df['RPM'] = df['RPM'].fillna(df['RPM'].mean())"
   ]
  },
  {
   "cell_type": "code",
   "execution_count": 14,
   "id": "5729d772",
   "metadata": {},
   "outputs": [],
   "source": [
    "df['MEAN RPM'] = df['RPM'].mean()\n",
    "df['Max Power'] = (df['BHP']/df['RPM']) * df['MEAN RPM']"
   ]
  },
  {
   "cell_type": "code",
   "execution_count": 15,
   "id": "435c5c9f",
   "metadata": {},
   "outputs": [
    {
     "data": {
      "text/plain": [
       "Make                    0\n",
       "Model                   0\n",
       "Price                   0\n",
       "Year                    0\n",
       "Fuel Type               0\n",
       "Transmission            0\n",
       "Owner                   0\n",
       "Engine                  0\n",
       "Max Power               0\n",
       "Drivetrain            136\n",
       "Seating Capacity       64\n",
       "Fuel Tank Capacity    113\n",
       "BHP                     0\n",
       "RPM                     0\n",
       "MEAN RPM                0\n",
       "dtype: int64"
      ]
     },
     "execution_count": 15,
     "metadata": {},
     "output_type": "execute_result"
    }
   ],
   "source": [
    "df.isnull().sum()"
   ]
  },
  {
   "cell_type": "code",
   "execution_count": 16,
   "id": "a60c5bb9",
   "metadata": {},
   "outputs": [],
   "source": [
    "df = df.drop(['BHP','RPM','MEAN RPM'],axis='columns')"
   ]
  },
  {
   "cell_type": "code",
   "execution_count": 17,
   "id": "a1c1f3d8",
   "metadata": {},
   "outputs": [
    {
     "data": {
      "text/plain": [
       "Make                    0\n",
       "Model                   0\n",
       "Price                   0\n",
       "Year                    0\n",
       "Fuel Type               0\n",
       "Transmission            0\n",
       "Owner                   0\n",
       "Engine                  0\n",
       "Max Power               0\n",
       "Drivetrain            136\n",
       "Seating Capacity       64\n",
       "Fuel Tank Capacity    113\n",
       "dtype: int64"
      ]
     },
     "execution_count": 17,
     "metadata": {},
     "output_type": "execute_result"
    }
   ],
   "source": [
    "df.isnull().sum()"
   ]
  },
  {
   "cell_type": "code",
   "execution_count": 18,
   "id": "f0db0341",
   "metadata": {},
   "outputs": [
    {
     "data": {
      "text/plain": [
       "array(['FWD', 'RWD', 'AWD', nan], dtype=object)"
      ]
     },
     "execution_count": 18,
     "metadata": {},
     "output_type": "execute_result"
    }
   ],
   "source": [
    "df['Drivetrain']\n",
    "df['Drivetrain'].unique()"
   ]
  },
  {
   "cell_type": "code",
   "execution_count": 19,
   "id": "d7db32a1",
   "metadata": {},
   "outputs": [
    {
     "data": {
      "text/plain": [
       "Drivetrain\n",
       "FWD    1330\n",
       "RWD     321\n",
       "AWD     272\n",
       "Name: count, dtype: int64"
      ]
     },
     "execution_count": 19,
     "metadata": {},
     "output_type": "execute_result"
    }
   ],
   "source": [
    "df['Drivetrain'].value_counts()"
   ]
  },
  {
   "cell_type": "code",
   "execution_count": 20,
   "id": "89113948",
   "metadata": {},
   "outputs": [],
   "source": [
    "df['Drivetrain'] = df['Drivetrain'].fillna('FWD')"
   ]
  },
  {
   "cell_type": "code",
   "execution_count": 21,
   "id": "c133f3b5",
   "metadata": {},
   "outputs": [
    {
     "data": {
      "text/plain": [
       "Make                    0\n",
       "Model                   0\n",
       "Price                   0\n",
       "Year                    0\n",
       "Fuel Type               0\n",
       "Transmission            0\n",
       "Owner                   0\n",
       "Engine                  0\n",
       "Max Power               0\n",
       "Drivetrain              0\n",
       "Seating Capacity       64\n",
       "Fuel Tank Capacity    113\n",
       "dtype: int64"
      ]
     },
     "execution_count": 21,
     "metadata": {},
     "output_type": "execute_result"
    }
   ],
   "source": [
    "df.isnull().sum()"
   ]
  },
  {
   "cell_type": "code",
   "execution_count": 22,
   "id": "d363f898",
   "metadata": {},
   "outputs": [],
   "source": [
    "df['Seating Capacity'] = df['Seating Capacity'].fillna(df['Seating Capacity'].mean())\n",
    "df['Seating Capacity'] = df['Seating Capacity'].astype(\"int64\")"
   ]
  },
  {
   "cell_type": "code",
   "execution_count": 23,
   "id": "8cc8deed",
   "metadata": {},
   "outputs": [
    {
     "data": {
      "text/plain": [
       "Make                    0\n",
       "Model                   0\n",
       "Price                   0\n",
       "Year                    0\n",
       "Fuel Type               0\n",
       "Transmission            0\n",
       "Owner                   0\n",
       "Engine                  0\n",
       "Max Power               0\n",
       "Drivetrain              0\n",
       "Seating Capacity        0\n",
       "Fuel Tank Capacity    113\n",
       "dtype: int64"
      ]
     },
     "execution_count": 23,
     "metadata": {},
     "output_type": "execute_result"
    }
   ],
   "source": [
    "df.isnull().sum()"
   ]
  },
  {
   "cell_type": "code",
   "execution_count": 24,
   "id": "ba3b8e27",
   "metadata": {},
   "outputs": [],
   "source": [
    "df['Fuel Tank Capacity'] = df['Fuel Tank Capacity'].fillna(df['Fuel Tank Capacity'].mean())"
   ]
  },
  {
   "cell_type": "code",
   "execution_count": 25,
   "id": "f917730c",
   "metadata": {},
   "outputs": [
    {
     "data": {
      "text/plain": [
       "Make                  0\n",
       "Model                 0\n",
       "Price                 0\n",
       "Year                  0\n",
       "Fuel Type             0\n",
       "Transmission          0\n",
       "Owner                 0\n",
       "Engine                0\n",
       "Max Power             0\n",
       "Drivetrain            0\n",
       "Seating Capacity      0\n",
       "Fuel Tank Capacity    0\n",
       "dtype: int64"
      ]
     },
     "execution_count": 25,
     "metadata": {},
     "output_type": "execute_result"
    }
   ],
   "source": [
    "df.isnull().sum()"
   ]
  },
  {
   "cell_type": "code",
   "execution_count": 26,
   "id": "e47c3c7e",
   "metadata": {},
   "outputs": [
    {
     "name": "stdout",
     "output_type": "stream",
     "text": [
      "<class 'pandas.core.frame.DataFrame'>\n",
      "RangeIndex: 2059 entries, 0 to 2058\n",
      "Data columns (total 12 columns):\n",
      " #   Column              Non-Null Count  Dtype  \n",
      "---  ------              --------------  -----  \n",
      " 0   Make                2059 non-null   object \n",
      " 1   Model               2059 non-null   object \n",
      " 2   Price               2059 non-null   int64  \n",
      " 3   Year                2059 non-null   int64  \n",
      " 4   Fuel Type           2059 non-null   object \n",
      " 5   Transmission        2059 non-null   object \n",
      " 6   Owner               2059 non-null   object \n",
      " 7   Engine              2059 non-null   float64\n",
      " 8   Max Power           2059 non-null   float64\n",
      " 9   Drivetrain          2059 non-null   object \n",
      " 10  Seating Capacity    2059 non-null   int64  \n",
      " 11  Fuel Tank Capacity  2059 non-null   float64\n",
      "dtypes: float64(3), int64(3), object(6)\n",
      "memory usage: 193.2+ KB\n"
     ]
    }
   ],
   "source": [
    "df.info()"
   ]
  },
  {
   "cell_type": "code",
   "execution_count": 27,
   "id": "7e8aca34",
   "metadata": {},
   "outputs": [
    {
     "data": {
      "text/plain": [
       "array(['Honda', 'Maruti Suzuki', 'Hyundai', 'Toyota', 'Mercedes-Benz',\n",
       "       'BMW', 'Skoda', 'Nissan', 'Renault', 'Tata', 'Volkswagen', 'Ford',\n",
       "       'Audi', 'Mahindra', 'MG', 'Jeep', 'Porsche', 'Kia', 'Land Rover',\n",
       "       'Volvo', 'Maserati', 'Jaguar', 'Isuzu', 'Fiat', 'MINI', 'Ferrari',\n",
       "       'Mitsubishi', 'Datsun', 'Lamborghini', 'Chevrolet', 'Ssangyong',\n",
       "       'Rolls-Royce', 'Lexus'], dtype=object)"
      ]
     },
     "execution_count": 27,
     "metadata": {},
     "output_type": "execute_result"
    }
   ],
   "source": [
    "#one hot encoding for categorical features\n",
    "df['Make'].unique()"
   ]
  },
  {
   "cell_type": "code",
   "execution_count": 28,
   "id": "95be22f8",
   "metadata": {},
   "outputs": [
    {
     "data": {
      "text/plain": [
       "dtype('int32')"
      ]
     },
     "execution_count": 28,
     "metadata": {},
     "output_type": "execute_result"
    }
   ],
   "source": [
    "le_Make = LabelEncoder()\n",
    "df['Make'] = le_Make.fit_transform(df['Make'])\n",
    "df['Make'].dtype"
   ]
  },
  {
   "cell_type": "code",
   "execution_count": 29,
   "id": "712d8213",
   "metadata": {},
   "outputs": [
    {
     "data": {
      "text/plain": [
       "1050"
      ]
     },
     "execution_count": 29,
     "metadata": {},
     "output_type": "execute_result"
    }
   ],
   "source": [
    "#dropping model as it can create dimensionality curse due to its high number of unique values\n",
    "df['Model'].nunique()"
   ]
  },
  {
   "cell_type": "code",
   "execution_count": 30,
   "id": "57172624",
   "metadata": {},
   "outputs": [
    {
     "data": {
      "text/plain": [
       "array(['Petrol', 'Diesel', 'CNG', 'LPG', 'Electric', 'CNG + CNG',\n",
       "       'Hybrid', 'Petrol + CNG', 'Petrol + LPG'], dtype=object)"
      ]
     },
     "execution_count": 30,
     "metadata": {},
     "output_type": "execute_result"
    }
   ],
   "source": [
    "df['Fuel Type'].unique()"
   ]
  },
  {
   "cell_type": "code",
   "execution_count": 31,
   "id": "f68b9c8f",
   "metadata": {},
   "outputs": [
    {
     "data": {
      "text/plain": [
       "dtype('int32')"
      ]
     },
     "execution_count": 31,
     "metadata": {},
     "output_type": "execute_result"
    }
   ],
   "source": [
    "le_Fuel_Type = LabelEncoder()\n",
    "df['Fuel Type'] = le_Fuel_Type.fit_transform(df['Fuel Type'])\n",
    "df['Fuel Type'].dtype"
   ]
  },
  {
   "cell_type": "code",
   "execution_count": 32,
   "id": "794e77a3",
   "metadata": {},
   "outputs": [
    {
     "data": {
      "text/plain": [
       "array(['Manual', 'Automatic'], dtype=object)"
      ]
     },
     "execution_count": 32,
     "metadata": {},
     "output_type": "execute_result"
    }
   ],
   "source": [
    "df['Transmission'].unique()"
   ]
  },
  {
   "cell_type": "code",
   "execution_count": 33,
   "id": "0b601bb4",
   "metadata": {},
   "outputs": [
    {
     "data": {
      "text/plain": [
       "dtype('int32')"
      ]
     },
     "execution_count": 33,
     "metadata": {},
     "output_type": "execute_result"
    }
   ],
   "source": [
    "le_Transmission = LabelEncoder()\n",
    "df['Transmission'] = le_Transmission.fit_transform(df['Transmission'])\n",
    "df['Transmission'].dtype"
   ]
  },
  {
   "cell_type": "code",
   "execution_count": 34,
   "id": "c40092cb",
   "metadata": {},
   "outputs": [
    {
     "data": {
      "text/plain": [
       "array(['First', 'Second', 'Third', 'Fourth', 'UnRegistered Car',\n",
       "       '4 or More'], dtype=object)"
      ]
     },
     "execution_count": 34,
     "metadata": {},
     "output_type": "execute_result"
    }
   ],
   "source": [
    "df['Owner'].unique()"
   ]
  },
  {
   "cell_type": "code",
   "execution_count": 35,
   "id": "532a3f2d",
   "metadata": {},
   "outputs": [
    {
     "data": {
      "text/plain": [
       "dtype('int32')"
      ]
     },
     "execution_count": 35,
     "metadata": {},
     "output_type": "execute_result"
    }
   ],
   "source": [
    "le_Owner = LabelEncoder()\n",
    "df['Owner'] = le_Owner.fit_transform(df['Owner'])\n",
    "df['Owner'].dtype"
   ]
  },
  {
   "cell_type": "code",
   "execution_count": 36,
   "id": "e8cbe62a",
   "metadata": {},
   "outputs": [
    {
     "data": {
      "text/plain": [
       "array(['FWD', 'RWD', 'AWD'], dtype=object)"
      ]
     },
     "execution_count": 36,
     "metadata": {},
     "output_type": "execute_result"
    }
   ],
   "source": [
    "df['Drivetrain'].unique()"
   ]
  },
  {
   "cell_type": "code",
   "execution_count": 37,
   "id": "a45a86b4",
   "metadata": {},
   "outputs": [
    {
     "data": {
      "text/plain": [
       "dtype('int32')"
      ]
     },
     "execution_count": 37,
     "metadata": {},
     "output_type": "execute_result"
    }
   ],
   "source": [
    "le_Drivetrain = LabelEncoder()\n",
    "df['Drivetrain'] = le_Drivetrain.fit_transform(df['Drivetrain'])\n",
    "df['Drivetrain'].dtype"
   ]
  },
  {
   "cell_type": "code",
   "execution_count": 39,
   "id": "de3718b7",
   "metadata": {},
   "outputs": [
    {
     "name": "stdout",
     "output_type": "stream",
     "text": [
      "<class 'pandas.core.frame.DataFrame'>\n",
      "RangeIndex: 2059 entries, 0 to 2058\n",
      "Data columns (total 12 columns):\n",
      " #   Column              Non-Null Count  Dtype  \n",
      "---  ------              --------------  -----  \n",
      " 0   Make                2059 non-null   int32  \n",
      " 1   Model               2059 non-null   object \n",
      " 2   Price               2059 non-null   int64  \n",
      " 3   Year                2059 non-null   int64  \n",
      " 4   Fuel Type           2059 non-null   int32  \n",
      " 5   Transmission        2059 non-null   int32  \n",
      " 6   Owner               2059 non-null   int32  \n",
      " 7   Engine              2059 non-null   float64\n",
      " 8   Max Power           2059 non-null   float64\n",
      " 9   Drivetrain          2059 non-null   int32  \n",
      " 10  Seating Capacity    2059 non-null   int64  \n",
      " 11  Fuel Tank Capacity  2059 non-null   float64\n",
      "dtypes: float64(3), int32(5), int64(3), object(1)\n",
      "memory usage: 152.9+ KB\n"
     ]
    }
   ],
   "source": [
    "df.info()"
   ]
  },
  {
   "cell_type": "code",
   "execution_count": 40,
   "id": "19f9cd19",
   "metadata": {},
   "outputs": [
    {
     "data": {
      "text/html": [
       "<div>\n",
       "<style scoped>\n",
       "    .dataframe tbody tr th:only-of-type {\n",
       "        vertical-align: middle;\n",
       "    }\n",
       "\n",
       "    .dataframe tbody tr th {\n",
       "        vertical-align: top;\n",
       "    }\n",
       "\n",
       "    .dataframe thead th {\n",
       "        text-align: right;\n",
       "    }\n",
       "</style>\n",
       "<table border=\"1\" class=\"dataframe\">\n",
       "  <thead>\n",
       "    <tr style=\"text-align: right;\">\n",
       "      <th></th>\n",
       "      <th>Make</th>\n",
       "      <th>Model</th>\n",
       "      <th>Price</th>\n",
       "      <th>Year</th>\n",
       "      <th>Fuel Type</th>\n",
       "      <th>Transmission</th>\n",
       "      <th>Owner</th>\n",
       "      <th>Engine</th>\n",
       "      <th>Max Power</th>\n",
       "      <th>Drivetrain</th>\n",
       "      <th>Seating Capacity</th>\n",
       "      <th>Fuel Tank Capacity</th>\n",
       "    </tr>\n",
       "  </thead>\n",
       "  <tbody>\n",
       "    <tr>\n",
       "      <th>0</th>\n",
       "      <td>7</td>\n",
       "      <td>Amaze 1.2 VX i-VTEC</td>\n",
       "      <td>505000</td>\n",
       "      <td>2017</td>\n",
       "      <td>6</td>\n",
       "      <td>1</td>\n",
       "      <td>1</td>\n",
       "      <td>1198.0</td>\n",
       "      <td>69.711104</td>\n",
       "      <td>1</td>\n",
       "      <td>5</td>\n",
       "      <td>35.0</td>\n",
       "    </tr>\n",
       "    <tr>\n",
       "      <th>1</th>\n",
       "      <td>19</td>\n",
       "      <td>Swift DZire VDI</td>\n",
       "      <td>450000</td>\n",
       "      <td>2014</td>\n",
       "      <td>2</td>\n",
       "      <td>1</td>\n",
       "      <td>3</td>\n",
       "      <td>1248.0</td>\n",
       "      <td>88.941753</td>\n",
       "      <td>1</td>\n",
       "      <td>5</td>\n",
       "      <td>42.0</td>\n",
       "    </tr>\n",
       "    <tr>\n",
       "      <th>2</th>\n",
       "      <td>8</td>\n",
       "      <td>i10 Magna 1.2 Kappa2</td>\n",
       "      <td>220000</td>\n",
       "      <td>2011</td>\n",
       "      <td>6</td>\n",
       "      <td>1</td>\n",
       "      <td>1</td>\n",
       "      <td>1197.0</td>\n",
       "      <td>63.300887</td>\n",
       "      <td>1</td>\n",
       "      <td>5</td>\n",
       "      <td>35.0</td>\n",
       "    </tr>\n",
       "    <tr>\n",
       "      <th>3</th>\n",
       "      <td>30</td>\n",
       "      <td>Glanza G</td>\n",
       "      <td>799000</td>\n",
       "      <td>2019</td>\n",
       "      <td>6</td>\n",
       "      <td>1</td>\n",
       "      <td>1</td>\n",
       "      <td>1197.0</td>\n",
       "      <td>65.704719</td>\n",
       "      <td>1</td>\n",
       "      <td>5</td>\n",
       "      <td>37.0</td>\n",
       "    </tr>\n",
       "    <tr>\n",
       "      <th>4</th>\n",
       "      <td>30</td>\n",
       "      <td>Innova 2.4 VX 7 STR [2016-2020]</td>\n",
       "      <td>1950000</td>\n",
       "      <td>2018</td>\n",
       "      <td>2</td>\n",
       "      <td>1</td>\n",
       "      <td>1</td>\n",
       "      <td>2393.0</td>\n",
       "      <td>209.274714</td>\n",
       "      <td>2</td>\n",
       "      <td>7</td>\n",
       "      <td>55.0</td>\n",
       "    </tr>\n",
       "  </tbody>\n",
       "</table>\n",
       "</div>"
      ],
      "text/plain": [
       "   Make                            Model    Price  Year  Fuel Type   \n",
       "0     7              Amaze 1.2 VX i-VTEC   505000  2017          6  \\\n",
       "1    19                  Swift DZire VDI   450000  2014          2   \n",
       "2     8             i10 Magna 1.2 Kappa2   220000  2011          6   \n",
       "3    30                         Glanza G   799000  2019          6   \n",
       "4    30  Innova 2.4 VX 7 STR [2016-2020]  1950000  2018          2   \n",
       "\n",
       "   Transmission  Owner  Engine   Max Power  Drivetrain  Seating Capacity   \n",
       "0             1      1  1198.0   69.711104           1                 5  \\\n",
       "1             1      3  1248.0   88.941753           1                 5   \n",
       "2             1      1  1197.0   63.300887           1                 5   \n",
       "3             1      1  1197.0   65.704719           1                 5   \n",
       "4             1      1  2393.0  209.274714           2                 7   \n",
       "\n",
       "   Fuel Tank Capacity  \n",
       "0                35.0  \n",
       "1                42.0  \n",
       "2                35.0  \n",
       "3                37.0  \n",
       "4                55.0  "
      ]
     },
     "execution_count": 40,
     "metadata": {},
     "output_type": "execute_result"
    }
   ],
   "source": [
    "df.head(5)"
   ]
  },
  {
   "cell_type": "markdown",
   "id": "d4f5f437",
   "metadata": {},
   "source": [
    "# Model Training and Testing"
   ]
  },
  {
   "cell_type": "code",
   "execution_count": 43,
   "id": "767fdfdc",
   "metadata": {},
   "outputs": [],
   "source": [
    "X = df[['Make','Year','Fuel Type','Transmission','Owner','Engine','Max Power','Drivetrain','Seating Capacity','Fuel Tank Capacity']]\n",
    "Y = df['Price']"
   ]
  },
  {
   "cell_type": "code",
   "execution_count": 47,
   "id": "e6506ee5",
   "metadata": {},
   "outputs": [],
   "source": [
    "XTRAIN,XTEST,YTRAIN,YTEST = train_test_split(X,Y,test_size = 0.2,random_state = 42)"
   ]
  },
  {
   "cell_type": "code",
   "execution_count": 48,
   "id": "82ab72c2",
   "metadata": {},
   "outputs": [],
   "source": [
    "model = LinearRegression()"
   ]
  },
  {
   "cell_type": "code",
   "execution_count": 49,
   "id": "8046c022",
   "metadata": {},
   "outputs": [
    {
     "data": {
      "text/html": [
       "<style>#sk-container-id-1 {color: black;background-color: white;}#sk-container-id-1 pre{padding: 0;}#sk-container-id-1 div.sk-toggleable {background-color: white;}#sk-container-id-1 label.sk-toggleable__label {cursor: pointer;display: block;width: 100%;margin-bottom: 0;padding: 0.3em;box-sizing: border-box;text-align: center;}#sk-container-id-1 label.sk-toggleable__label-arrow:before {content: \"▸\";float: left;margin-right: 0.25em;color: #696969;}#sk-container-id-1 label.sk-toggleable__label-arrow:hover:before {color: black;}#sk-container-id-1 div.sk-estimator:hover label.sk-toggleable__label-arrow:before {color: black;}#sk-container-id-1 div.sk-toggleable__content {max-height: 0;max-width: 0;overflow: hidden;text-align: left;background-color: #f0f8ff;}#sk-container-id-1 div.sk-toggleable__content pre {margin: 0.2em;color: black;border-radius: 0.25em;background-color: #f0f8ff;}#sk-container-id-1 input.sk-toggleable__control:checked~div.sk-toggleable__content {max-height: 200px;max-width: 100%;overflow: auto;}#sk-container-id-1 input.sk-toggleable__control:checked~label.sk-toggleable__label-arrow:before {content: \"▾\";}#sk-container-id-1 div.sk-estimator input.sk-toggleable__control:checked~label.sk-toggleable__label {background-color: #d4ebff;}#sk-container-id-1 div.sk-label input.sk-toggleable__control:checked~label.sk-toggleable__label {background-color: #d4ebff;}#sk-container-id-1 input.sk-hidden--visually {border: 0;clip: rect(1px 1px 1px 1px);clip: rect(1px, 1px, 1px, 1px);height: 1px;margin: -1px;overflow: hidden;padding: 0;position: absolute;width: 1px;}#sk-container-id-1 div.sk-estimator {font-family: monospace;background-color: #f0f8ff;border: 1px dotted black;border-radius: 0.25em;box-sizing: border-box;margin-bottom: 0.5em;}#sk-container-id-1 div.sk-estimator:hover {background-color: #d4ebff;}#sk-container-id-1 div.sk-parallel-item::after {content: \"\";width: 100%;border-bottom: 1px solid gray;flex-grow: 1;}#sk-container-id-1 div.sk-label:hover label.sk-toggleable__label {background-color: #d4ebff;}#sk-container-id-1 div.sk-serial::before {content: \"\";position: absolute;border-left: 1px solid gray;box-sizing: border-box;top: 0;bottom: 0;left: 50%;z-index: 0;}#sk-container-id-1 div.sk-serial {display: flex;flex-direction: column;align-items: center;background-color: white;padding-right: 0.2em;padding-left: 0.2em;position: relative;}#sk-container-id-1 div.sk-item {position: relative;z-index: 1;}#sk-container-id-1 div.sk-parallel {display: flex;align-items: stretch;justify-content: center;background-color: white;position: relative;}#sk-container-id-1 div.sk-item::before, #sk-container-id-1 div.sk-parallel-item::before {content: \"\";position: absolute;border-left: 1px solid gray;box-sizing: border-box;top: 0;bottom: 0;left: 50%;z-index: -1;}#sk-container-id-1 div.sk-parallel-item {display: flex;flex-direction: column;z-index: 1;position: relative;background-color: white;}#sk-container-id-1 div.sk-parallel-item:first-child::after {align-self: flex-end;width: 50%;}#sk-container-id-1 div.sk-parallel-item:last-child::after {align-self: flex-start;width: 50%;}#sk-container-id-1 div.sk-parallel-item:only-child::after {width: 0;}#sk-container-id-1 div.sk-dashed-wrapped {border: 1px dashed gray;margin: 0 0.4em 0.5em 0.4em;box-sizing: border-box;padding-bottom: 0.4em;background-color: white;}#sk-container-id-1 div.sk-label label {font-family: monospace;font-weight: bold;display: inline-block;line-height: 1.2em;}#sk-container-id-1 div.sk-label-container {text-align: center;}#sk-container-id-1 div.sk-container {/* jupyter's `normalize.less` sets `[hidden] { display: none; }` but bootstrap.min.css set `[hidden] { display: none !important; }` so we also need the `!important` here to be able to override the default hidden behavior on the sphinx rendered scikit-learn.org. See: https://github.com/scikit-learn/scikit-learn/issues/21755 */display: inline-block !important;position: relative;}#sk-container-id-1 div.sk-text-repr-fallback {display: none;}</style><div id=\"sk-container-id-1\" class=\"sk-top-container\"><div class=\"sk-text-repr-fallback\"><pre>LinearRegression()</pre><b>In a Jupyter environment, please rerun this cell to show the HTML representation or trust the notebook. <br />On GitHub, the HTML representation is unable to render, please try loading this page with nbviewer.org.</b></div><div class=\"sk-container\" hidden><div class=\"sk-item\"><div class=\"sk-estimator sk-toggleable\"><input class=\"sk-toggleable__control sk-hidden--visually\" id=\"sk-estimator-id-1\" type=\"checkbox\" checked><label for=\"sk-estimator-id-1\" class=\"sk-toggleable__label sk-toggleable__label-arrow\">LinearRegression</label><div class=\"sk-toggleable__content\"><pre>LinearRegression()</pre></div></div></div></div></div>"
      ],
      "text/plain": [
       "LinearRegression()"
      ]
     },
     "execution_count": 49,
     "metadata": {},
     "output_type": "execute_result"
    }
   ],
   "source": [
    "model.fit(XTRAIN,YTRAIN)"
   ]
  },
  {
   "cell_type": "code",
   "execution_count": 50,
   "id": "d4078d5c",
   "metadata": {},
   "outputs": [
    {
     "data": {
      "text/plain": [
       "0.5030674730981368"
      ]
     },
     "execution_count": 50,
     "metadata": {},
     "output_type": "execute_result"
    }
   ],
   "source": [
    "model.score(XTEST,YTEST)"
   ]
  },
  {
   "cell_type": "code",
   "execution_count": 53,
   "id": "1dbe56f9",
   "metadata": {},
   "outputs": [
    {
     "data": {
      "text/plain": [
       "array([ 1.78966553e+03,  2.02653737e+05,  8.82853193e+04, -3.02396711e+05,\n",
       "        6.82921401e+04,  1.85222513e+03, -3.59493512e-01, -1.64836672e+05,\n",
       "       -6.92585706e+05,  3.91393936e+04])"
      ]
     },
     "execution_count": 53,
     "metadata": {},
     "output_type": "execute_result"
    }
   ],
   "source": [
    "model.coef_"
   ]
  },
  {
   "cell_type": "code",
   "execution_count": 54,
   "id": "59ee9eba",
   "metadata": {},
   "outputs": [
    {
     "data": {
      "text/plain": [
       "-408562988.9890434"
      ]
     },
     "execution_count": 54,
     "metadata": {},
     "output_type": "execute_result"
    }
   ],
   "source": [
    "model.intercept_"
   ]
  },
  {
   "cell_type": "code",
   "execution_count": 64,
   "id": "8177105f",
   "metadata": {},
   "outputs": [
    {
     "data": {
      "text/html": [
       "<div>\n",
       "<style scoped>\n",
       "    .dataframe tbody tr th:only-of-type {\n",
       "        vertical-align: middle;\n",
       "    }\n",
       "\n",
       "    .dataframe tbody tr th {\n",
       "        vertical-align: top;\n",
       "    }\n",
       "\n",
       "    .dataframe thead th {\n",
       "        text-align: right;\n",
       "    }\n",
       "</style>\n",
       "<table border=\"1\" class=\"dataframe\">\n",
       "  <thead>\n",
       "    <tr style=\"text-align: right;\">\n",
       "      <th></th>\n",
       "      <th>Make</th>\n",
       "      <th>Year</th>\n",
       "      <th>Fuel Type</th>\n",
       "      <th>Transmission</th>\n",
       "      <th>Owner</th>\n",
       "      <th>Engine</th>\n",
       "      <th>Max Power</th>\n",
       "      <th>Drivetrain</th>\n",
       "      <th>Seating Capacity</th>\n",
       "      <th>Fuel Tank Capacity</th>\n",
       "    </tr>\n",
       "  </thead>\n",
       "  <tbody>\n",
       "    <tr>\n",
       "      <th>266</th>\n",
       "      <td>1</td>\n",
       "      <td>2012</td>\n",
       "      <td>2</td>\n",
       "      <td>0</td>\n",
       "      <td>3</td>\n",
       "      <td>1692.575543</td>\n",
       "      <td>69826.944770</td>\n",
       "      <td>1</td>\n",
       "      <td>5</td>\n",
       "      <td>52.00221</td>\n",
       "    </tr>\n",
       "    <tr>\n",
       "      <th>1133</th>\n",
       "      <td>1</td>\n",
       "      <td>2016</td>\n",
       "      <td>2</td>\n",
       "      <td>0</td>\n",
       "      <td>1</td>\n",
       "      <td>1995.000000</td>\n",
       "      <td>221.152468</td>\n",
       "      <td>2</td>\n",
       "      <td>5</td>\n",
       "      <td>63.00000</td>\n",
       "    </tr>\n",
       "    <tr>\n",
       "      <th>1823</th>\n",
       "      <td>18</td>\n",
       "      <td>2017</td>\n",
       "      <td>2</td>\n",
       "      <td>1</td>\n",
       "      <td>1</td>\n",
       "      <td>1997.000000</td>\n",
       "      <td>176.921974</td>\n",
       "      <td>1</td>\n",
       "      <td>7</td>\n",
       "      <td>70.00000</td>\n",
       "    </tr>\n",
       "    <tr>\n",
       "      <th>1370</th>\n",
       "      <td>21</td>\n",
       "      <td>2021</td>\n",
       "      <td>2</td>\n",
       "      <td>0</td>\n",
       "      <td>1</td>\n",
       "      <td>2925.000000</td>\n",
       "      <td>435.360534</td>\n",
       "      <td>0</td>\n",
       "      <td>7</td>\n",
       "      <td>90.00000</td>\n",
       "    </tr>\n",
       "    <tr>\n",
       "      <th>67</th>\n",
       "      <td>30</td>\n",
       "      <td>2019</td>\n",
       "      <td>2</td>\n",
       "      <td>0</td>\n",
       "      <td>1</td>\n",
       "      <td>2755.000000</td>\n",
       "      <td>246.039190</td>\n",
       "      <td>2</td>\n",
       "      <td>7</td>\n",
       "      <td>80.00000</td>\n",
       "    </tr>\n",
       "  </tbody>\n",
       "</table>\n",
       "</div>"
      ],
      "text/plain": [
       "      Make  Year  Fuel Type  Transmission  Owner       Engine     Max Power   \n",
       "266      1  2012          2             0      3  1692.575543  69826.944770  \\\n",
       "1133     1  2016          2             0      1  1995.000000    221.152468   \n",
       "1823    18  2017          2             1      1  1997.000000    176.921974   \n",
       "1370    21  2021          2             0      1  2925.000000    435.360534   \n",
       "67      30  2019          2             0      1  2755.000000    246.039190   \n",
       "\n",
       "      Drivetrain  Seating Capacity  Fuel Tank Capacity  \n",
       "266            1                 5            52.00221  \n",
       "1133           2                 5            63.00000  \n",
       "1823           1                 7            70.00000  \n",
       "1370           0                 7            90.00000  \n",
       "67             2                 7            80.00000  "
      ]
     },
     "execution_count": 64,
     "metadata": {},
     "output_type": "execute_result"
    }
   ],
   "source": [
    "XTRAIN.head(5)"
   ]
  },
  {
   "cell_type": "code",
   "execution_count": 63,
   "id": "70e82faf",
   "metadata": {},
   "outputs": [
    {
     "data": {
      "text/plain": [
       "array([['Honda', '2017', 'Petrol', 'Manual', 'First', '1198', '221',\n",
       "        'FWD', '5', '35']], dtype='<U11')"
      ]
     },
     "execution_count": 63,
     "metadata": {},
     "output_type": "execute_result"
    }
   ],
   "source": [
    "XINPUT = np.array([['Honda',2017,'Petrol','Manual','First',1198,221,'FWD',5,35]])\n",
    "XINPUT"
   ]
  },
  {
   "cell_type": "code",
   "execution_count": 65,
   "id": "a1690c98",
   "metadata": {},
   "outputs": [],
   "source": [
    "XINPUT[:,0]=le_Make.transform(XINPUT[:,0])\n",
    "XINPUT[:,2]=le_Fuel_Type.transform(XINPUT[:,2])\n",
    "XINPUT[:,3]=le_Transmission.transform(XINPUT[:,3])\n",
    "XINPUT[:,4]=le_Owner.transform(XINPUT[:,4])\n",
    "XINPUT[:,7]=le_Drivetrain.transform(XINPUT[:,7])\n",
    "\n",
    "XINPUT=XINPUT.astype('float')"
   ]
  },
  {
   "cell_type": "code",
   "execution_count": 68,
   "id": "43cf0c94",
   "metadata": {},
   "outputs": [
    {
     "data": {
      "text/plain": [
       "array([458734.04951459])"
      ]
     },
     "execution_count": 68,
     "metadata": {},
     "output_type": "execute_result"
    }
   ],
   "source": [
    "model.predict(XINPUT)"
   ]
  },
  {
   "cell_type": "markdown",
   "id": "e55350aa",
   "metadata": {},
   "source": [
    "# Loading appropriate model and class objects into pickle file"
   ]
  },
  {
   "cell_type": "code",
   "execution_count": 69,
   "id": "530a8328",
   "metadata": {},
   "outputs": [],
   "source": [
    "data = {\"model\":model, \"le_Make\":le_Make, \"le_Fuel_Type\":le_Fuel_Type, \"le_Transmission\":le_Transmission, \"le_Owner\":le_Owner, \"le_Drivetrain\":le_Drivetrain}\n",
    "with open('saved_steps_of_vehicle_price_prediction.pkl','wb') as file:\n",
    "    pickle.dump(data,file)"
   ]
  },
  {
   "cell_type": "code",
   "execution_count": 70,
   "id": "2f8ba043",
   "metadata": {},
   "outputs": [],
   "source": [
    "with open('saved_steps_of_vehicle_price_prediction.pkl','rb') as file:\n",
    "    data = pickle.load(file)\n",
    "    \n",
    "linearregressor = data[\"model\"]\n",
    "le_Make = data[\"le_Make\"]\n",
    "le_Fuel_Type = data[\"le_Fuel_Type\"]\n",
    "le_Transmission = data[\"le_Transmission\"]\n",
    "le_Owner = data[\"le_Owner\"]\n",
    "le_Drivetrain = data[\"le_Drivetrain\"]"
   ]
  },
  {
   "cell_type": "code",
   "execution_count": 71,
   "id": "a338eec1",
   "metadata": {},
   "outputs": [
    {
     "data": {
      "text/plain": [
       "array([458734.04951459])"
      ]
     },
     "execution_count": 71,
     "metadata": {},
     "output_type": "execute_result"
    }
   ],
   "source": [
    "linearregressor.predict(XINPUT)"
   ]
  },
  {
   "cell_type": "code",
   "execution_count": null,
   "id": "3988b5bb",
   "metadata": {},
   "outputs": [],
   "source": []
  }
 ],
 "metadata": {
  "kernelspec": {
   "display_name": "Python 3 (ipykernel)",
   "language": "python",
   "name": "python3"
  },
  "language_info": {
   "codemirror_mode": {
    "name": "ipython",
    "version": 3
   },
   "file_extension": ".py",
   "mimetype": "text/x-python",
   "name": "python",
   "nbconvert_exporter": "python",
   "pygments_lexer": "ipython3",
   "version": "3.10.6"
  }
 },
 "nbformat": 4,
 "nbformat_minor": 5
}
